{
 "cells": [
  {
   "cell_type": "code",
   "execution_count": 4,
   "metadata": {},
   "outputs": [
    {
     "name": "stdout",
     "output_type": "stream",
     "text": [
      "File example_varcd.xml downloaded successfully.\n"
     ]
    }
   ],
   "source": [
    "import requests\n",
    "\n",
    "base_url = \"https://www.ine.pt/ine/xml_indic.jsp?opc=1&varcd=0004167&lang=EN\"\n",
    "\n",
    "extraction_date = \"2023-05-23\"\n",
    "source = \"INE\"\n",
    "language = \"PT\"\n",
    "theme = \"example_theme\"\n",
    "subtheme = \"example_subtheme\"\n",
    "keywords = \"example_keywords\"\n",
    "title = \"example_title\"\n",
    "varcd = \"example_varcd\"\n",
    "description = \"example_description\"\n",
    "geo_lastlevel = \"example_geo_lastlevel\"\n",
    "last_period_available = \"example_last_period_available\"\n",
    "last_update = \"example_last_update\"\n",
    "periodicity = \"example_periodicity\"\n",
    "update_type = \"example_update_type\"\n",
    "\n",
    "params = {\n",
    "    \"opc\": 1,\n",
    "    \"varcd\": varcd,\n",
    "    \"lang\": language\n",
    "}\n",
    "\n",
    "url = f\"{base_url}?opc={params['opc']}&varcd={params['varcd']}&lang={params['lang']}\"\n",
    "\n",
    "url = f\"https://www.ine.pt/ine/xml_indic.jsp?opc={params['varcd']}&lang={params['lang']}\"\n",
    "\n",
    "\n",
    "response = requests.get(url)\n",
    "\n",
    "if response.status_code == 200:\n",
    "    file_name = f\"{varcd}.xml\"\n",
    "    with open(file_name, \"wb\") as file:\n",
    "        file.write(response.content)\n",
    "    print(f\"File {file_name} downloaded successfully.\")\n",
    "else:\n",
    "    print(\"Error occurred while accessing the API.\")\n"
   ]
  }
 ],
 "metadata": {
  "kernelspec": {
   "display_name": "Python 3",
   "language": "python",
   "name": "python3"
  },
  "language_info": {
   "codemirror_mode": {
    "name": "ipython",
    "version": 3
   },
   "file_extension": ".py",
   "mimetype": "text/x-python",
   "name": "python",
   "nbconvert_exporter": "python",
   "pygments_lexer": "ipython3",
   "version": "3.10.7"
  },
  "orig_nbformat": 4
 },
 "nbformat": 4,
 "nbformat_minor": 2
}
